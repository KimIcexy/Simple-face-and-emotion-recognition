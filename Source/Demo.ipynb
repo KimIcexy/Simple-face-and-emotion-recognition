{
  "cells": [
    {
      "attachments": {},
      "cell_type": "markdown",
      "metadata": {
        "id": "8nqqscsQl_fg"
      },
      "source": [
        "##CHUẨN BỊ"
      ]
    },
    {
      "cell_type": "code",
      "execution_count": 1,
      "metadata": {
        "id": "XnKUbjWqlzOf"
      },
      "outputs": [],
      "source": [
        "import cv2\n",
        "import numpy as np\n",
        "import matplotlib.pyplot as plt"
      ]
    },
    {
      "attachments": {},
      "cell_type": "markdown",
      "metadata": {
        "id": "lAT_YmXjnX18"
      },
      "source": [
        "##DETECTION: Viola John algorithm"
      ]
    },
    {
      "cell_type": "code",
      "execution_count": 2,
      "metadata": {
        "id": "XFlNRCsdmHVe"
      },
      "outputs": [],
      "source": [
        "# Tải về bộ phân lớp Haar đã được huấn luyện để phát hiện khuôn mặt\n",
        "face_cascade = cv2.CascadeClassifier(cv2.data.haarcascades + 'haarcascade_frontalface_default.xml')"
      ]
    },
    {
      "attachments": {},
      "cell_type": "markdown",
      "metadata": {
        "id": "BfKyYOI5gaqK"
      },
      "source": [
        "##RECOGNITION (face + face emotion): HOG + SVM"
      ]
    },
    {
      "cell_type": "code",
      "execution_count": 3,
      "metadata": {
        "id": "TN7EBqwNHwXi"
      },
      "outputs": [],
      "source": [
        "import os\n",
        "from skimage.feature import hog\n",
        "import numpy as np\n",
        "from sklearn.svm import SVC\n",
        "from sklearn.model_selection import GridSearchCV"
      ]
    },
    {
      "cell_type": "code",
      "execution_count": 4,
      "metadata": {},
      "outputs": [],
      "source": [
        "\"\"\"Xây dựng mô hình phân lớp SVM\n",
        "Input: dir: đường dẫn đến thư mục train (chứa các ảnh để huấn luyện)\n",
        "Output: model: mô hình SVM đã được huấn luyện\n",
        "\"\"\"\n",
        "def train_model(dir):\n",
        "    features = []\n",
        "    labels = []\n",
        "\n",
        "    # Duyệt qua từng thư mục trong dir\n",
        "    for label_dir in os.listdir(dir):\n",
        "        label_path = dir + \"/\" + label_dir\n",
        "        \n",
        "        # Đảm bảo đường dẫn là một thư mục\n",
        "        if os.path.isdir(label_path):\n",
        "            # Nhãn là tên thư mục\n",
        "            label = label_dir\n",
        "            \n",
        "            # Duyệt qua từng file trong thư mục label\n",
        "            for file_name in os.listdir(label_path):\n",
        "                file_path = label_path + \"/\" + file_name\n",
        "                \n",
        "                # Đọc và chuyển ảnh sang ảnh xám .\n",
        "                img = cv2.imread(file_path)\n",
        "                if img is None:\n",
        "                    print('Error: '+ file_path)\n",
        "                    continue\n",
        "                else:\n",
        "                    img = cv2.cvtColor(img, cv2.COLOR_BGR2GRAY)\n",
        "                \n",
        "                # Phát hiện khuôn mặt\n",
        "                bboxes = face_cascade.detectMultiScale(image=img)\n",
        "                \n",
        "                # Nhận dạng khuôn mặt\n",
        "                for (column, row, width, height) in bboxes:\n",
        "                    # Cắt và scale vùng ảnh chứa khuôn mặt\n",
        "                    face = img[row:row+height, column:column+width]\n",
        "                    face = cv2.resize(face, (128, 128))\n",
        "                    \n",
        "                    # Trích xuất đặc trưng HOG\n",
        "                    feat = hog(face, orientations=9, pixels_per_cell=(8, 8), cells_per_block=(2, 2), visualize=False)\n",
        "                    \n",
        "                    # Thêm đặc trưng và nhãn vào mảng\n",
        "                    features.append(feat)\n",
        "                    labels.append(label)\n",
        "                \n",
        "    # Chuyển đổi sang mảng numpy\n",
        "    features = np.array(features)\n",
        "    labels = np.array(labels)\n",
        "    \n",
        "    # Xây dựng mô hình SVM\n",
        "    model = SVC()\n",
        "    # model.fit(features, labels)\n",
        "    # return model\n",
        "\n",
        "    # Định nghĩa các giá trị tham số cần điều chỉnh\n",
        "    param_grid = {\n",
        "        'C': [0.1, 1, 10],\n",
        "        'kernel': ['linear', 'rbf', 'sigmoid', 'poly'],\n",
        "        'gamma': [0.1, 1, 10]\n",
        "    }\n",
        "\n",
        "    # Thực hiện Grid Search để điều chỉnh tham số\n",
        "    grid_search = GridSearchCV(model, param_grid, cv=5)\n",
        "    grid_search.fit(features, labels)\n",
        "\n",
        "    # Lấy ra mô hình tốt nhất đã điều chỉnh\n",
        "    best_model = grid_search.best_estimator_\n",
        "    return best_model"
      ]
    },
    {
      "cell_type": "code",
      "execution_count": 5,
      "metadata": {},
      "outputs": [
        {
          "name": "stdout",
          "output_type": "stream",
          "text": [
            "Train face recognition model...\n",
            "Train face emotion recognition model...\n",
            "Save model successfully~\n"
          ]
        }
      ],
      "source": [
        "# Tải mô hình từ file (ko cần phải train lại)\n",
        "from joblib import load\n",
        "try:\n",
        "    model_fr = load('../trained_model/fr_model.joblib')\n",
        "    model_fer = load('../trained_model/fer_model.joblib')\n",
        "    print('Load pretrained model from file successfully ~')\n",
        "except:\n",
        "    # Huấn luyện mô hình SVM để nhận dạng khuôn mặt\n",
        "    print('Train face recognition model...')\n",
        "    model_fr = train_model(\"../Data/train/fr\")\n",
        "    \n",
        "    # Huấn luyện mô hình SVM để nhận dạng cảm xúc\n",
        "    print('Train face emotion recognition model...')\n",
        "    model_fer = train_model(\"../Data/train/fer\")\n",
        "\n",
        "    # Lưu lại mô hình\n",
        "    from joblib import dump\n",
        "    try:\n",
        "        path = '../trained_model/'\n",
        "        if not os.path.exists(path):\n",
        "            os.makedirs(path)\n",
        "        dump(model_fr, path + 'fr_model.joblib')\n",
        "        dump(model_fer, path + 'fer_model.joblib')\n",
        "        print('Save the models successfully~')\n",
        "    except:\n",
        "        print('Fail to save the models!')"
      ]
    },
    {
      "cell_type": "code",
      "execution_count": 6,
      "metadata": {},
      "outputs": [],
      "source": [
        "\"\"\"Sử dụng mô hình phân lớp để nhận dạng khuôn mặt và cảm xúc\n",
        "Input:\n",
        "    data_dir: đường dẫn đến thư mục Data\n",
        "    valid_file: đường dẫn đến file cần nhận dạng,\n",
        "    img: ảnh xám của file cần nhận dạng,\n",
        "    bboxes: các bounding box khuôn mặt được phát hiện,\n",
        "    model_fr: mô hình để nhận dạng khuôn mặt,\n",
        "    model_fer: mô hình để nhận dạng cảm xúc\n",
        "Output: Ghi file kết quả nhận dạng vào thư mục Data/output\n",
        "\"\"\"\n",
        "def recognize(valid_file, img, bboxes, model_fr, model_fer):\n",
        "    # Khởi tạo ảnh output bằng ảnh gốc ban đầu\n",
        "    output_img = cv2.imread(valid_file)\n",
        "    \n",
        "    # Duyệt qua từng bounding box khuôn mặt được phát hiện\n",
        "    for (x, y, w, h) in bboxes:\n",
        "        # Cắt và scale khuôn mặt\n",
        "        face_roi = img[y:y+h, x:x+w]\n",
        "        face_roi = cv2.resize(face_roi, (128, 128))\n",
        "\n",
        "        # Trích đặc trưng \n",
        "        features = hog(face_roi, orientations=9, pixels_per_cell=(8, 8), cells_per_block=(2, 2), visualize=False)\n",
        "        features = np.array(features).reshape(1, -1)\n",
        "\n",
        "        # Dự đoán nhãn\n",
        "        fr_predicted_label = model_fr.predict(features)[0]\n",
        "        fer_predicted_label = model_fer.predict(features)[0]\n",
        "        \n",
        "        # Ghi kết quả lên ảnh\n",
        "        cv2.rectangle(output_img, (x, y), (x + w, y + h), (0, 255, 0), 2)\n",
        "        cv2.putText(output_img, fr_predicted_label, (x, y - 10), cv2.FONT_HERSHEY_SIMPLEX, 1.0, (255, 0, 0), 2)\n",
        "        cv2.putText(output_img, fer_predicted_label, (x, y + h + 15), cv2.FONT_HERSHEY_SIMPLEX, 1.0, (0, 0, 255), 2)\n",
        "    return output_img"
      ]
    },
    {
      "cell_type": "code",
      "execution_count": 7,
      "metadata": {},
      "outputs": [],
      "source": [
        "\"\"\"Lưu lại các ảnh kết quả nhận dạng\n",
        "Input:\n",
        "    data_dir: đường dẫn đến thư mục Data\n",
        "    output_img: ảnh kết quả\n",
        "Output: Ghi file ảnh kết quả vào thư mục Data/output\n",
        "\"\"\"\n",
        "def write_result_img(data_dir, output_img): \n",
        "    # Ghi file output\n",
        "    path = data_dir + \"/output\"\n",
        "    if not os.path.exists(path):\n",
        "        os.makedirs(path)\n",
        "\n",
        "    # Đếm số lượng file hiện có trong thư mục\n",
        "    count = 0\n",
        "    for _, _, files in os.walk(path):\n",
        "        count += len(files)\n",
        "        \n",
        "    # Tên file tiếp theo là số lượng file hiện tại + 1 \n",
        "    count += 1\n",
        "    path += \"/\" + str(count)+\".jpg\"\n",
        "    check = cv2.imwrite(path, output_img)\n",
        "    if not check:\n",
        "        print(\"Fail to save file!\", path)"
      ]
    },
    {
      "cell_type": "code",
      "execution_count": 12,
      "metadata": {},
      "outputs": [],
      "source": [
        "\"\"\"Chạy thử mô hình trên tập ảnh valid sau khi đã huấn luyện\"\"\"\n",
        "def test_model():\n",
        "    data_dir=\"../Data\"\n",
        "    valid_dir = \"../Data/valid/fr\"\n",
        "    # Duyệt qua từng thư mục cần kiểm thử\n",
        "    for sub_dir in os.listdir(valid_dir):\n",
        "        sub_path = valid_dir + \"/\" + sub_dir\n",
        "        \n",
        "        # Đảm bảo đường dẫn là một thư mục\n",
        "        if os.path.isdir(sub_path):\n",
        "            # Duyệt qua từng file ảnh trong thư mục\n",
        "            for file in os.listdir(sub_path):\n",
        "                file = sub_path + \"/\" + file\n",
        "                # Đọc và chuyển ảnh sang ảnh xám \n",
        "                img = cv2.imread(file)\n",
        "                img = cv2.cvtColor(img, cv2.COLOR_BGR2GRAY)\n",
        "                # Phát hiện khuôn mặt\n",
        "                bboxes = face_cascade.detectMultiScale(image=img, scaleFactor=1.3, minNeighbors=5)\n",
        "                # Nhận diện khuôn mặt và cảm xúc\n",
        "                result_img = recognize(file, img, bboxes, model_fr, model_fer)\n",
        "                write_result_img(data_dir, result_img)\n",
        "test_model()"
      ]
    },
    {
      "cell_type": "code",
      "execution_count": 13,
      "metadata": {},
      "outputs": [],
      "source": [
        "import csv\n",
        "fieldnames = ['FRAME', 'ANGRY', 'FEAR', 'SAD',\\\n",
        "            'NEUTRAL', 'HAPPY', 'SURPRISED']\n",
        "\n",
        "def declare_csv():\n",
        "    with open('../Data/data.csv', 'w', newline='') as csvfile:\n",
        "        writer = csv.DictWriter(csvfile, fieldnames=fieldnames)\n",
        "        writer.writeheader()\n",
        "\n",
        "def write_csv(dict_row):\n",
        "    with open('../Data/data.csv', 'a', newline='') as csvfile:\n",
        "        writer = csv.DictWriter(csvfile, fieldnames=fieldnames)\n",
        "        writer.writerow(dict_row)\n"
      ]
    },
    {
      "cell_type": "code",
      "execution_count": 24,
      "metadata": {},
      "outputs": [],
      "source": [
        "\"\"\"Xử lý phát hiện, nhận dạng trên mỗi frame hình\n",
        "Input: frame hình cần xử lý\n",
        "Output: frame hình kết quả\n",
        "\"\"\"\n",
        "def process_frame(frame, no_frame):\n",
        "    # Đọc và chuyển ảnh sang ảnh xám \n",
        "    img = cv2.cvtColor(frame, cv2.COLOR_BGR2GRAY)\n",
        "    # Phát hiện khuôn mặt\n",
        "    bboxes = face_cascade.detectMultiScale(image=img, scaleFactor=1.3, minNeighbors=5)\n",
        "    \n",
        "    # Khởi tạo ghi file csv\n",
        "    fr_label = {'JAMES': 'a', 'JISOO': 'b', 'JENNIE': 'c', 'ROSE': 'd', 'LISA': 'e'}\n",
        "    dict_row = {'FRAME': str(no_frame), 'ANGRY': '', 'FEAR': '',\\\n",
        "                    'SAD': '', 'NEUTRAL': '', 'HAPPY': '', 'SURPRISED': ''}\n",
        "    \n",
        "    # Nhận diện khuôn mặt và cảm xúc\n",
        "    # Duyệt qua từng bounding box khuôn mặt được phát hiện\n",
        "    for (x, y, w, h) in bboxes:\n",
        "        # Cắt và scale khuôn mặt\n",
        "        face_roi = img[y:y+h, x:x+w]\n",
        "        face_roi = cv2.resize(face_roi, (128, 128))\n",
        "\n",
        "        # Trích đặc trưng \n",
        "        features = hog(face_roi, orientations=9, pixels_per_cell=(8, 8), cells_per_block=(2, 2), visualize=False)\n",
        "        features = np.array(features).reshape(1, -1)\n",
        "\n",
        "        # Dự đoán nhãn\n",
        "        fr_predicted_label = model_fr.predict(features)[0]\n",
        "        fer_predicted_label = model_fer.predict(features)[0]\n",
        "        \n",
        "        # Ghi kết quả lên ảnh\n",
        "        cv2.rectangle(frame, (x, y), (x + w, y + h), (0, 255, 0), 2)\n",
        "        cv2.putText(frame, fr_predicted_label, (x, y - 10), cv2.FONT_HERSHEY_SIMPLEX, 1.0, (255, 0, 0), 2)\n",
        "        cv2.putText(frame, fer_predicted_label, (x, y + h + 15), cv2.FONT_HERSHEY_SIMPLEX, 1.0, (0, 0, 255), 2)\n",
        "        \n",
        "        # Lưu kết quả vào dictionary\n",
        "        dict_row['FRAME']=no_frame\n",
        "        dict_row[fer_predicted_label]+= str(fr_label[fr_predicted_label])\n",
        "        \n",
        "    # Ghi file csv\n",
        "    if len(bboxes) != 0:\n",
        "        write_csv(dict_row)\n",
        "    \n",
        "    # Trả về frame kết quả \n",
        "    return frame"
      ]
    },
    {
      "cell_type": "code",
      "execution_count": 25,
      "metadata": {},
      "outputs": [],
      "source": [
        "\"\"\"Thực hiện chạy mô hình đã được huấn luyện và test kết quả trên video\"\"\"\n",
        "\n",
        "# Tên file video\n",
        "video_file = '../Data/video1.mp4'\n",
        "video = cv2.VideoCapture(video_file)\n",
        "\n",
        "no_frame = 0\n",
        "declare_csv()\n",
        "\n",
        "while video.isOpened():\n",
        "    no_frame += 1\n",
        "    ret, frame = video.read()\n",
        "    processed_frame = process_frame(frame, str(no_frame))\n",
        "    cv2.imshow('Video', processed_frame)\n",
        "    cv2.setWindowProperty(\"Video\", cv2.WND_PROP_AUTOSIZE, cv2.WINDOW_AUTOSIZE)\n",
        "\n",
        "    # Đợi nhận sự kiện thoát cửa sổ khi người dùng nhấp vào nút X\n",
        "    cv2.waitKey(1)\n",
        "    if cv2.getWindowProperty(\"Video\", cv2.WND_PROP_VISIBLE) < 1:\n",
        "        break\n",
        "\n",
        "video.release()\n",
        "cv2.destroyAllWindows()"
      ]
    },
    {
      "cell_type": "code",
      "execution_count": 26,
      "metadata": {},
      "outputs": [
        {
          "name": "stdout",
          "output_type": "stream",
          "text": [
            "     FRAME ANGRY  FEAR  SAD NEUTRAL HAPPY SURPRISED\n",
            "0       35   NaN   NaN  bce     NaN   NaN         d\n",
            "1       36     e   NaN   bc     NaN   NaN       NaN\n",
            "2       37     e   NaN   bc     NaN   NaN       NaN\n",
            "3       38     e   NaN    c     NaN     b         d\n",
            "4       39   NaN   NaN  NaN     NaN     b        ec\n",
            "..     ...   ...   ...  ...     ...   ...       ...\n",
            "349    384   NaN   NaN   ce     NaN   NaN       NaN\n",
            "350    385   NaN   NaN   ce     NaN   NaN       NaN\n",
            "351    386   NaN   NaN    c     NaN     e       NaN\n",
            "352    387   NaN   NaN    c     NaN     e       NaN\n",
            "353    388   NaN   NaN    c     NaN     e       NaN\n",
            "\n",
            "[354 rows x 7 columns]\n"
          ]
        }
      ],
      "source": [
        "import pandas\n",
        "df = pandas.read_csv('../Data/data.csv')\n",
        "print(df)   "
      ]
    },
    {
      "cell_type": "code",
      "execution_count": 31,
      "metadata": {},
      "outputs": [],
      "source": [
        "# Vẽ đồ thị \n",
        "def get_data_visualize(df, fr_label):\n",
        "    \"\"\"\n",
        "    Hàm rút trích đường cong cảm xúc của một người từ dataframe \n",
        "    Input:\n",
        "        df: dataframe\n",
        "        fr_label: nhãn của người muốn rút trích cảm xúc\n",
        "    Output:\n",
        "        visualize_data: dữ liệu lưu giữ đường cong cảm xúc\n",
        "    \"\"\"\n",
        "    \n",
        "    emotions = ['ANGRY', 'FEAR', 'SAD', 'NEUTRAL', 'HAPPY', 'SURPRISED']\n",
        "    fr_dict = {'JAMES': 'a', 'JISOO': 'b', 'JENNIE': 'c', 'ROSE': 'd', 'LISA': 'e'}\n",
        "    fr_char = fr_dict[fr_label]\n",
        "    visualize_data = {'fr_label': fr_label}\n",
        "    \n",
        "    for index, row in df.iterrows:\n",
        "         for emotion in emotions:\n",
        "             if fr_char in df[emotion]:\n",
        "                 visualize_df = {}\n",
        "                 visualize_df['frame']=row['FRAME']\n",
        "                 visualize_df['fer_label']=emotion\n",
        "                 break\n",
        "             \n",
        "    # trả về kết quả\n",
        "    visualize_data['curve': visualize_df]            \n",
        "    return visualize_data\n",
        "\n",
        "def get_all_curves():\n",
        "    curves = []\n",
        "    for member in ['JAMES', 'JISOO', 'JENNIE', 'ROSE', 'LISA']:\n",
        "        curves.append(get_data_visualize(df, member))\n",
        "    return curves\n",
        "\n",
        "def plot_line_chart(frame, fer_labels, fr_label):\n",
        "    plt.plot(frame, fer_labels, label=fr_label, color='red', marker='o')\n",
        "    plt.xlabel('frame')\n",
        "    plt.title('Đường cong cảm xúc theo thời gian')\n",
        "    plt.legend()\n",
        "    plt.grid(True)\n",
        "    plt.show()\n",
        "    \n",
        "def show_all_curves(curves):\n",
        "    for curve in curves:\n",
        "        for index, row in curve.iterrows:\n",
        "            plot_line_chart(row[frame], )"
      ]
    }
  ],
  "metadata": {
    "colab": {
      "provenance": []
    },
    "kernelspec": {
      "display_name": "Python 3",
      "name": "python3"
    },
    "language_info": {
      "codemirror_mode": {
        "name": "ipython",
        "version": 3
      },
      "file_extension": ".py",
      "mimetype": "text/x-python",
      "name": "python",
      "nbconvert_exporter": "python",
      "pygments_lexer": "ipython3",
      "version": "3.9.0"
    }
  },
  "nbformat": 4,
  "nbformat_minor": 0
}
