{
  "cells": [
    {
      "attachments": {},
      "cell_type": "markdown",
      "metadata": {
        "id": "8nqqscsQl_fg"
      },
      "source": [
        "##CHUẨN BỊ"
      ]
    },
    {
      "cell_type": "code",
      "execution_count": 1,
      "metadata": {
        "id": "XnKUbjWqlzOf"
      },
      "outputs": [],
      "source": [
        "import cv2\n",
        "import numpy as np\n",
        "import matplotlib.pyplot as plt"
      ]
    },
    {
      "attachments": {},
      "cell_type": "markdown",
      "metadata": {
        "id": "lAT_YmXjnX18"
      },
      "source": [
        "##DETECTION: Viola John algorithm"
      ]
    },
    {
      "cell_type": "code",
      "execution_count": 2,
      "metadata": {
        "id": "XFlNRCsdmHVe"
      },
      "outputs": [],
      "source": [
        "# Tải về bộ phân lớp Haar đã được huấn luyện để phát hiện khuôn mặt\n",
        "face_cascade = cv2.CascadeClassifier(cv2.data.haarcascades + 'haarcascade_frontalface_default.xml')"
      ]
    },
    {
      "attachments": {},
      "cell_type": "markdown",
      "metadata": {
        "id": "BfKyYOI5gaqK"
      },
      "source": [
        "##RECOGNITION (face + face emotion): HOG + SVM"
      ]
    },
    {
      "cell_type": "code",
      "execution_count": 3,
      "metadata": {
        "id": "TN7EBqwNHwXi"
      },
      "outputs": [],
      "source": [
        "import os\n",
        "from skimage.feature import hog\n",
        "import numpy as np\n",
        "from sklearn.svm import SVC\n",
        "from sklearn.model_selection import GridSearchCV"
      ]
    },
    {
      "cell_type": "code",
      "execution_count": 4,
      "metadata": {},
      "outputs": [],
      "source": [
        "'''Chuẩn hóa ảnh'''\n",
        "def normalized_train_images(dir):\n",
        "    images=[]\n",
        "\n",
        "    # Duyệt qua từng thư mục trong dir\n",
        "    for label_dir in os.listdir(dir):\n",
        "        label_path = dir + \"/\" + label_dir\n",
        "        \n",
        "        # Đảm bảo đường dẫn là một thư mục\n",
        "        if os.path.isdir(label_path):\n",
        "            # Nhãn là tên thư mục\n",
        "            label = label_dir\n",
        "            \n",
        "            # Duyệt qua từng file trong thư mục label\n",
        "            for file_name in os.listdir(label_path):\n",
        "                file_path = label_path + \"/\" + file_name\n",
        "                \n",
        "                # Đọc và chuyển ảnh sang ảnh xám .\n",
        "                img = cv2.imread(file_path)\n",
        "                if img is None:\n",
        "                    print('Error: '+ file_path)\n",
        "                    continue\n",
        "                else:\n",
        "                    images.append(img)\n",
        "    # Thay đổi kích thước của ảnh thành (128, 128)\n",
        "    images = [cv2.resize(image, (256, 256)) for image in images]\n",
        "    # Tính toán giá trị trung bình và độ lệch chuẩn của tất cả các ảnh trong tập dữ liệu\n",
        "    mean_value = np.mean(images)\n",
        "    std_value = np.std(images)\n",
        "\n",
        "    normalized_images = []\n",
        "    for image in images:\n",
        "        # Chuyển ảnh sang xám\n",
        "        image = cv2.cvtColor(image, cv2.COLOR_BGR2GRAY)\n",
        "        \n",
        "        # Chuẩn hóa độ sáng và độ tương phản của mỗi ảnh\n",
        "        normalized_image = (image - np.mean(image)) / np.std(image) * std_value + mean_value\n",
        "\n",
        "        # Chuyển đổi định dạng ảnh về 8-bit unsigned integer\n",
        "        normalized_image = cv2.convertScaleAbs(normalized_image)\n",
        "\n",
        "        normalized_images.append(normalized_image)\n",
        "\n",
        "    return normalized_images"
      ]
    },
    {
      "cell_type": "code",
      "execution_count": 5,
      "metadata": {},
      "outputs": [],
      "source": [
        "\"\"\"Xây dựng mô hình phân lớp SVM\n",
        "Input: dir: đường dẫn đến thư mục train (chứa các ảnh để huấn luyện)\n",
        "Output: model: mô hình SVM đã được huấn luyện\n",
        "\"\"\"\n",
        "def train_model(dir):\n",
        "    features = []\n",
        "    labels = []\n",
        "\n",
        "    # Duyệt qua từng thư mục trong dir\n",
        "    for label_dir in os.listdir(dir):\n",
        "        label_path = dir + \"/\" + label_dir\n",
        "        \n",
        "        # Đảm bảo đường dẫn là một thư mục\n",
        "        if os.path.isdir(label_path):\n",
        "            # Nhãn là tên thư mục\n",
        "            label = label_dir\n",
        "            \n",
        "            # Duyệt qua từng file trong thư mục label\n",
        "            for file_name in os.listdir(label_path):\n",
        "                file_path = label_path + \"/\" + file_name\n",
        "                \n",
        "                # Đọc và chuyển ảnh sang ảnh xám .\n",
        "                img = cv2.imread(file_path)\n",
        "                if img is None:\n",
        "                    print('Error: '+ file_path)\n",
        "                    continue\n",
        "                else:\n",
        "                    img = cv2.cvtColor(img, cv2.COLOR_BGR2GRAY)\n",
        "                \n",
        "                # Phát hiện khuôn mặt\n",
        "                bboxes = face_cascade.detectMultiScale(image=img)\n",
        "                \n",
        "                # Nhận dạng khuôn mặt\n",
        "                for (column, row, width, height) in bboxes:\n",
        "                    # Cắt và scale vùng ảnh chứa khuôn mặt\n",
        "                    face = img[row:row+height, column:column+width]\n",
        "                    face = cv2.resize(face, (128, 128))\n",
        "                    \n",
        "                    # Trích xuất đặc trưng HOG\n",
        "                    feat = hog(face, orientations=9, pixels_per_cell=(8, 8), cells_per_block=(2, 2), visualize=False)\n",
        "                    \n",
        "                    # Thêm đặc trưng và nhãn vào mảng\n",
        "                    features.append(feat)\n",
        "                    labels.append(label)\n",
        "                \n",
        "    # Chuyển đổi sang mảng numpy\n",
        "    features = np.array(features)\n",
        "    labels = np.array(labels)\n",
        "    \n",
        "    # Xây dựng mô hình SVM\n",
        "    model = SVC()\n",
        "\n",
        "    # Định nghĩa các giá trị tham số cần điều chỉnh\n",
        "    param_grid = {\n",
        "        'C': [0.1, 1, 10],\n",
        "        'kernel': ['linear', 'rbf', 'sigmoid', 'poly'],\n",
        "        'gamma': [0.1, 1, 10]\n",
        "    }\n",
        "\n",
        "    # Thực hiện Grid Search để điều chỉnh tham số\n",
        "    grid_search = GridSearchCV(model, param_grid, cv=5)\n",
        "    grid_search.fit(features, labels)\n",
        "\n",
        "    # Lấy ra mô hình tốt nhất đã điều chỉnh\n",
        "    best_model = grid_search.best_estimator_\n",
        "    return best_model"
      ]
    },
    {
      "cell_type": "code",
      "execution_count": 6,
      "metadata": {},
      "outputs": [
        {
          "name": "stdout",
          "output_type": "stream",
          "text": [
            "Load pretrained model from file successfully ~\n"
          ]
        }
      ],
      "source": [
        "# Tải mô hình từ file (ko cần phải train lại)\n",
        "from joblib import load\n",
        "try:\n",
        "    model_fr = load('../trained_model/fr_model.joblib')\n",
        "    model_fer = load('../trained_model/fer_model.joblib')\n",
        "    print('Load pretrained model from file successfully ~')\n",
        "except:\n",
        "    # Huấn luyện mô hình SVM để nhận dạng khuôn mặt\n",
        "    print('Normalize train fr images...')\n",
        "    normalized_train_images(\"../Data/train/fr\")\n",
        "    print('Train face recognition model...')\n",
        "    model_fr = train_model(\"../Data/train/fr\")\n",
        "    \n",
        "    # Huấn luyện mô hình SVM để nhận dạng cảm xúc\n",
        "    print('Normalize train fer images...')\n",
        "    print('Train face emotion recognition model...')\n",
        "    model_fer = train_model(\"../Data/train/fer\")\n",
        "\n",
        "    # Lưu lại mô hình\n",
        "    from joblib import dump\n",
        "    try:\n",
        "        path = '../trained_model/'\n",
        "        if not os.path.exists(path):\n",
        "            os.makedirs(path)\n",
        "        dump(model_fr, path + 'fr_model.joblib')\n",
        "        dump(model_fer, path + 'fer_model.joblib')\n",
        "        print('Save the models successfully~')\n",
        "    except:\n",
        "        print('Fail to save the models!')"
      ]
    },
    {
      "cell_type": "code",
      "execution_count": 7,
      "metadata": {},
      "outputs": [],
      "source": [
        "\"\"\"Sử dụng mô hình phân lớp để nhận dạng khuôn mặt và cảm xúc\n",
        "Input:\n",
        "    data_dir: đường dẫn đến thư mục Data\n",
        "    test_file: đường dẫn đến file cần nhận dạng,\n",
        "    img: ảnh xám của file cần nhận dạng,\n",
        "    bboxes: các bounding box khuôn mặt được phát hiện,\n",
        "    model_fr: mô hình để nhận dạng khuôn mặt,\n",
        "    model_fer: mô hình để nhận dạng cảm xúc\n",
        "Output: Ghi file kết quả nhận dạng vào thư mục Data/output\n",
        "\"\"\"\n",
        "def recognize(test_file, img, bboxes, model_fr=None, model_fer=None):\n",
        "    # Khởi tạo các kết quả trả về\n",
        "    output_img = cv2.imread(test_file)\n",
        "    fr_predicted_label=''\n",
        "    fer_predicted_label=''\n",
        "    \n",
        "    # Duyệt qua từng bounding box khuôn mặt được phát hiện\n",
        "    for (x, y, w, h) in bboxes:\n",
        "        # Cắt và scale khuôn mặt\n",
        "        face_roi = img[y:y+h, x:x+w]\n",
        "        face_roi = cv2.resize(face_roi, (128, 128))\n",
        "\n",
        "        # Trích đặc trưng \n",
        "        features = hog(face_roi, orientations=9, pixels_per_cell=(8, 8), cells_per_block=(2, 2), visualize=False)\n",
        "        features = np.array(features).reshape(1, -1)\n",
        "\n",
        "        # Dự đoán nhãn và ghi kết quả lên ảnh\n",
        "        cv2.rectangle(output_img, (x, y), (x + w, y + h), (0, 255, 0), 2)\n",
        "        if model_fr != None:\n",
        "            fr_predicted_label = model_fr.predict(features)[0]\n",
        "            cv2.putText(output_img, fr_predicted_label, (x, y - 10), cv2.FONT_HERSHEY_SIMPLEX, 1.0, (255, 0, 0), 2)\n",
        "        if model_fer != None:\n",
        "            fer_predicted_label = model_fer.predict(features)[0]\n",
        "            cv2.putText(output_img, fer_predicted_label, (x, y + h + 15), cv2.FONT_HERSHEY_SIMPLEX, 1.0, (0, 0, 255), 2)\n",
        "    return output_img, fr_predicted_label, fer_predicted_label"
      ]
    },
    {
      "cell_type": "code",
      "execution_count": 8,
      "metadata": {},
      "outputs": [],
      "source": [
        "\"\"\"Lưu lại các ảnh kết quả nhận dạng\n",
        "Input:\n",
        "    data_dir: đường dẫn đến thư mục Data\n",
        "    output_img: ảnh kết quả\n",
        "Output: Ghi file ảnh kết quả vào thư mục Data/output\n",
        "\"\"\"\n",
        "def write_result_img(data_dir, output_img): \n",
        "    # Ghi file output\n",
        "    path = data_dir + \"/output\"\n",
        "    if not os.path.exists(path):\n",
        "        os.makedirs(path)\n",
        "\n",
        "    # Đếm số lượng file hiện có trong thư mục\n",
        "    count = 0\n",
        "    for _, _, files in os.walk(path):\n",
        "        count += len(files)\n",
        "        \n",
        "    # Tên file tiếp theo là số lượng file hiện tại + 1 \n",
        "    count += 1\n",
        "    path += \"/\" + str(count)+\".jpg\"\n",
        "    check = cv2.imwrite(path, output_img)\n",
        "    if not check:\n",
        "        print(\"Fail to save file!\", path)"
      ]
    },
    {
      "cell_type": "code",
      "execution_count": 9,
      "metadata": {},
      "outputs": [
        {
          "data": {
            "text/plain": [
              "{'C': 0.1,\n",
              " 'break_ties': False,\n",
              " 'cache_size': 200,\n",
              " 'class_weight': None,\n",
              " 'coef0': 0.0,\n",
              " 'decision_function_shape': 'ovr',\n",
              " 'degree': 3,\n",
              " 'gamma': 0.1,\n",
              " 'kernel': 'linear',\n",
              " 'max_iter': -1,\n",
              " 'probability': False,\n",
              " 'random_state': None,\n",
              " 'shrinking': True,\n",
              " 'tol': 0.001,\n",
              " 'verbose': False}"
            ]
          },
          "execution_count": 9,
          "metadata": {},
          "output_type": "execute_result"
        }
      ],
      "source": [
        "model_fer.get_params()"
      ]
    },
    {
      "cell_type": "code",
      "execution_count": 10,
      "metadata": {},
      "outputs": [],
      "source": [
        "# Hỗ trợ lưu dữ liệu bằng file csv\n",
        "import csv\n",
        "fieldnames = ['FRAME', 'ANGRY', 'FEAR', 'SAD',\\\n",
        "            'NEUTRAL', 'HAPPY', 'SURPRISED']\n",
        "\n",
        "def declare_csv():\n",
        "    os.makedirs('../Data/output', exist_ok=True)\n",
        "    with open('../Data/output/data.csv', 'w', newline='') as csvfile:\n",
        "        writer = csv.DictWriter(csvfile, fieldnames=fieldnames)\n",
        "        writer.writeheader()\n",
        "\n",
        "def write_csv(dict_row):\n",
        "    with open('../Data/output/data.csv', 'a', newline='') as csvfile:\n",
        "        writer = csv.DictWriter(csvfile, fieldnames=fieldnames)\n",
        "        writer.writerow(dict_row)"
      ]
    },
    {
      "cell_type": "code",
      "execution_count": 11,
      "metadata": {},
      "outputs": [],
      "source": [
        "\"\"\"Xử lý phát hiện, nhận dạng trên mỗi frame hình\n",
        "Input: frame hình cần xử lý\n",
        "Output: frame hình kết quả\n",
        "\"\"\"\n",
        "def process_frame(frame, no_frame):\n",
        "    # Đọc và chuyển ảnh sang ảnh xám \n",
        "    img = cv2.cvtColor(frame, cv2.COLOR_BGR2GRAY)\n",
        "    # Phát hiện khuôn mặt\n",
        "    bboxes = face_cascade.detectMultiScale(image=img, scaleFactor=1.3, minNeighbors=5)\n",
        "    \n",
        "    # Khởi tạo ghi file csv\n",
        "    fr_label = {'JAMES': 'a', 'JISOO': 'b', 'JENNIE': 'c', 'ROSE': 'd', 'LISA': 'e'}\n",
        "    dict_row = {'FRAME': str(no_frame), 'ANGRY': '', 'FEAR': '',\\\n",
        "                    'SAD': '', 'NEUTRAL': '', 'HAPPY': '', 'SURPRISED': ''}\n",
        "    \n",
        "    # Nhận diện khuôn mặt và cảm xúc\n",
        "    # Duyệt qua từng bounding box khuôn mặt được phát hiện\n",
        "    for (x, y, w, h) in bboxes:\n",
        "        # Cắt và scale khuôn mặt\n",
        "        face_roi = img[y:y+h, x:x+w]\n",
        "        face_roi = cv2.resize(face_roi, (128, 128))\n",
        "\n",
        "        # Trích đặc trưng \n",
        "        features = hog(face_roi, orientations=9, pixels_per_cell=(8, 8), cells_per_block=(2, 2), visualize=False)\n",
        "        features = np.array(features).reshape(1, -1)\n",
        "\n",
        "        # Dự đoán nhãn\n",
        "        fr_predicted_label = model_fr.predict(features)[0]\n",
        "        fer_predicted_label = model_fer.predict(features)[0]\n",
        "        \n",
        "        # Ghi kết quả lên ảnh\n",
        "        cv2.rectangle(frame, (x, y), (x + w, y + h), (0, 255, 0), 2)\n",
        "        cv2.putText(frame, fr_predicted_label, (x, y - 10), cv2.FONT_HERSHEY_SIMPLEX, 1.0, (255, 0, 0), 2)\n",
        "        cv2.putText(frame, fer_predicted_label, (x, y + h + 15), cv2.FONT_HERSHEY_SIMPLEX, 1.0, (0, 0, 255), 2)\n",
        "        \n",
        "        # Lưu kết quả vào dictionary\n",
        "        dict_row['FRAME']=no_frame\n",
        "        dict_row[fer_predicted_label]+= str(fr_label[fr_predicted_label])\n",
        "        \n",
        "    # Ghi file csv\n",
        "    if len(bboxes) != 0:\n",
        "        write_csv(dict_row)\n",
        "    \n",
        "    # Trả về frame kết quả \n",
        "    return frame"
      ]
    },
    {
      "attachments": {},
      "cell_type": "markdown",
      "metadata": {},
      "source": [
        "##ĐÁNH GIÁ HIỆU SUẤT MÔ HÌNH QUA TẬP TEST"
      ]
    },
    {
      "cell_type": "code",
      "execution_count": 12,
      "metadata": {},
      "outputs": [
        {
          "name": "stdout",
          "output_type": "stream",
          "text": [
            "JAMES performance: 25/28\n",
            "JENNIE performance: 23/33\n",
            "JISOO performance: 26/36\n",
            "LISA performance: 23/37\n",
            "ROSE performance: 24/40\n",
            "Face recognition accuracy: 121/174 ~~ 0.6954022988505747\n",
            "\n",
            "ANGRY performance: 3/9\n",
            "FEAR performance: 0/3\n",
            "HAPPY performance: 8/13\n",
            "NEUTRAL performance: 1/8\n",
            "SAD performance: 2/11\n",
            "SURPRISED performance: 2/6\n",
            "Face emotion recognition accuracy: 16/50 ~~ 0.32\n"
          ]
        }
      ],
      "source": [
        "# ĐÁNH GIÁ HIỆU SUẤT\n",
        "# Thực hiện chạy trên tập test và đo độ chính xác\n",
        "\"\"\"Chạy thử mô hình trên tập ảnh test sau khi đã huấn luyện\"\"\"\n",
        "def test_model(cal_performance=True):\n",
        "    data_dir = \"../Data\"\n",
        "    path_list = [\"../Data/test/fr\", \"../Data/test/fer\"]\n",
        "    \n",
        "    for i in range(len(path_list)):\n",
        "        sum_test = 0       # Tổng số lượng dữ liệu kiểm thử    \n",
        "        sum_correct = 0    # Tổng số lượng dự đoán đúng\n",
        "        \n",
        "        # Duyệt qua từng thư mục cần kiểm thử\n",
        "        test_dir = path_list[i]\n",
        "        for sub_dir in os.listdir(test_dir):\n",
        "            sub_path = test_dir + \"/\" + sub_dir\n",
        "            \n",
        "            # Đảm bảo đường dẫn là một thư mục\n",
        "            if os.path.isdir(sub_path):\n",
        "                n_test = 0         # Tổng số lượng dữ liệu kiểm thử của 1 lớp\n",
        "                n_correct = 0      # Tổng số lượng dự đoán đúng của 1 lớp\n",
        "                \n",
        "                # Duyệt qua từng file ảnh trong thư mục\n",
        "                for file in os.listdir(sub_path):\n",
        "                    n_test += 1\n",
        "                    file = sub_path + \"/\" + file\n",
        "                    # Đọc và chuyển ảnh sang ảnh xám \n",
        "                    img = cv2.imread(file)\n",
        "                    img = cv2.cvtColor(img, cv2.COLOR_BGR2GRAY)\n",
        "                    # Phát hiện khuôn mặt\n",
        "                    bboxes = face_cascade.detectMultiScale(image=img, scaleFactor=1.3, minNeighbors=5)\n",
        "                    \n",
        "                    # Nếu nhận diện khuôn mặt + cảm xúc\n",
        "                    if cal_performance==False:\n",
        "                        result_img, fr_predict, fer_predict = recognize(file, img, bboxes, model_fr, model_fer)\n",
        "                        write_result_img(data_dir, result_img)\n",
        "                        \n",
        "                    # Nhận diện khuôn mặt\n",
        "                    if i==0:\n",
        "                        result_img, fr_predict, fer_predict = recognize(file, img, bboxes, model_fr)\n",
        "                        if fr_predict == sub_dir:\n",
        "                            n_correct += 1\n",
        "                    # Nhận diện cảm xúc\n",
        "                    if i==1:\n",
        "                        result_img, fr_predict, fer_predict = recognize(file, img, bboxes, None, model_fer)\n",
        "                        if fer_predict == sub_dir:\n",
        "                            n_correct += 1\n",
        "                # độ đo Accuracy = số kết quả nhận diện đúng / tổng số dữ liệu test\n",
        "                print(sub_dir+' performance: ' + str(n_correct) + '/'+ str(n_test))\n",
        "                sum_correct += n_correct\n",
        "                sum_test += n_test\n",
        "                \n",
        "        if i == 0:\n",
        "            print('Face recognition accuracy: ' + str(sum_correct) + '/' + str(sum_test),end=\" ~~ \")\n",
        "            print(float(sum_correct)/sum_test)\n",
        "            print()\n",
        "        else:\n",
        "            print('Face emotion recognition accuracy: ' + str(sum_correct) + '/' + str(sum_test),end=\" ~~ \")\n",
        "            print(float(sum_correct)/sum_test)\n",
        "test_model()"
      ]
    },
    {
      "attachments": {},
      "cell_type": "markdown",
      "metadata": {},
      "source": [
        "##XEM KẾT QUẢ KHI NHẬN DẠNG TRÊN VIDEO"
      ]
    },
    {
      "cell_type": "code",
      "execution_count": 13,
      "metadata": {},
      "outputs": [],
      "source": [
        "\"\"\"Thực hiện chạy mô hình đã được huấn luyện và test kết quả trên video\"\"\"\n",
        "\n",
        "# Tên file video\n",
        "video_file = '../Data/video1.mp4'\n",
        "video = cv2.VideoCapture(video_file)\n",
        "\n",
        "no_frame = 0\n",
        "declare_csv()\n",
        "\n",
        "while video.isOpened():\n",
        "    no_frame += 1\n",
        "    ret, frame = video.read()\n",
        "    processed_frame = process_frame(frame, str(no_frame))\n",
        "    cv2.imshow('Video', processed_frame)\n",
        "    cv2.setWindowProperty(\"Video\", cv2.WND_PROP_AUTOSIZE, cv2.WINDOW_AUTOSIZE)\n",
        "\n",
        "    # Đợi nhận sự kiện thoát cửa sổ khi người dùng nhấp vào nút X\n",
        "    cv2.waitKey(1)\n",
        "    if cv2.getWindowProperty(\"Video\", cv2.WND_PROP_VISIBLE) < 1:\n",
        "        break\n",
        "\n",
        "video.release()\n",
        "cv2.destroyAllWindows()"
      ]
    },
    {
      "cell_type": "code",
      "execution_count": 14,
      "metadata": {},
      "outputs": [
        {
          "name": "stdout",
          "output_type": "stream",
          "text": [
            "     FRAME ANGRY  FEAR  SAD NEUTRAL HAPPY SURPRISED\n",
            "0       35   NaN   NaN  bce     NaN   NaN         d\n",
            "1       36   NaN   NaN  bec     NaN   NaN       NaN\n",
            "2       37   NaN   NaN  bce     NaN   NaN       NaN\n",
            "3       38   NaN   NaN   ce     NaN     b         d\n",
            "4       39   NaN   NaN    e     NaN     b         c\n",
            "..     ...   ...   ...  ...     ...   ...       ...\n",
            "215    250   NaN   NaN    b     NaN     c       NaN\n",
            "216    251   NaN   NaN    b     NaN     c       NaN\n",
            "217    252   NaN   NaN    b     NaN     c       NaN\n",
            "218    253   NaN   NaN    b     NaN     c       NaN\n",
            "219    254   NaN   NaN   cb     NaN   NaN       NaN\n",
            "\n",
            "[220 rows x 7 columns]\n"
          ]
        }
      ],
      "source": [
        "import pandas\n",
        "df = pandas.read_csv('../Data/output/data.csv')\n",
        "print(df)   "
      ]
    },
    {
      "attachments": {},
      "cell_type": "markdown",
      "metadata": {},
      "source": [
        "##ĐIỂM DANH SỐ LƯỢNG THEO THỜI GIAN"
      ]
    },
    {
      "cell_type": "code",
      "execution_count": 15,
      "metadata": {},
      "outputs": [
        {
          "data": {
            "image/png": "[encoded data removed]",
            "text/plain": [
              "<Figure size 432x288 with 1 Axes>"
            ]
          },
          "metadata": {
            "needs_background": "light"
          },
          "output_type": "display_data"
        }
      ],
      "source": [
        "def get_number_curve():\n",
        "    \"\"\"Vẽ biểu đồ đường thể hiện số lượng thành viên ở mỗi frame\"\"\"\n",
        "    emotions = ['ANGRY', 'FEAR', 'SAD', 'NEUTRAL', 'HAPPY', 'SURPRISED']\n",
        "    curve = []\n",
        "    for index, row in df.iterrows():\n",
        "        num = 0\n",
        "        for emotion in emotions:\n",
        "            val = str(row[emotion])\n",
        "            if val == 'nan':\n",
        "                continue\n",
        "            num += len(val)\n",
        "        curve.append({'frame': row['FRAME'], 'number': num})\n",
        "    return curve\n",
        "\n",
        "def plot_number_curve(curve):\n",
        "    frames = []\n",
        "    numbers = []\n",
        "    for point in curve:\n",
        "        frames.append(point['frame'])\n",
        "        numbers.append(point['number'])\n",
        "    plt.plot(frames, numbers, color='blue', marker='o')\n",
        "    plt.xlabel('frame')\n",
        "    plt.ylabel('số lượng')\n",
        "    plt.yticks(range(0,5,1))\n",
        "    plt.title('Số lượng thành viên theo thời gian')\n",
        "    plt.grid(True)\n",
        "    plt.show()\n",
        "\n",
        "plot_number_curve(get_number_curve())"
      ]
    },
    {
      "attachments": {},
      "cell_type": "markdown",
      "metadata": {},
      "source": [
        "##VẼ ĐƯỜNG CONG CẢM XÚC THEO THỜI GIAN"
      ]
    },
    {
      "cell_type": "code",
      "execution_count": 16,
      "metadata": {},
      "outputs": [],
      "source": [
        "def get_one_curve(df, fr_label):\n",
        "    \"\"\"\n",
        "    Hàm rút trích đường cong cảm xúc của một người từ dataframe \n",
        "    Input:\n",
        "        df: dataframe\n",
        "        fr_label: nhãn của người muốn rút trích cảm xúc\n",
        "    Output:\n",
        "        visualize_data: dữ liệu lưu giữ đường cong cảm xúc\n",
        "    \"\"\"\n",
        "    \n",
        "    emotions = ['ANGRY', 'FEAR', 'SAD', 'NEUTRAL', 'HAPPY', 'SURPRISED']\n",
        "    fr_dict = {'JAMES': 'a', 'JISOO': 'b', 'JENNIE': 'c', 'ROSE': 'd', 'LISA': 'e'}\n",
        "    fr_char = fr_dict[fr_label]\n",
        "    visualize_data = {'fr_label': fr_label, 'curve': []}\n",
        "    \n",
        "    \n",
        "    for index, row in df.iterrows():\n",
        "        for emotion in emotions:\n",
        "            s = str(row[emotion])\n",
        "            if s == 'nan':\n",
        "                continue\n",
        "            if fr_char in s:\n",
        "                visualize_df = {}\n",
        "                visualize_df['frame']=row['FRAME']\n",
        "                visualize_df['fer_label']=emotion\n",
        "                visualize_data['curve'].append(visualize_df)\n",
        "                break         \n",
        "    return visualize_data\n",
        "\n",
        "def get_all_curves():\n",
        "    curves = []\n",
        "    for member in ['JISOO', 'JENNIE', 'ROSE', 'LISA']:\n",
        "        curves.append(get_one_curve(df, member))\n",
        "    return curves\n",
        "\n",
        "\n",
        "def plot_one_curve(frames, fer_labels, fr_label):\n",
        "    plt.plot(frames, fer_labels, label=fr_label, color='red', marker='o')\n",
        "    plt.xlabel('frame')\n",
        "    plt.title('Đường cong cảm xúc ' + fr_label + ' theo thời gian')\n",
        "    plt.grid(True)\n",
        "    plt.show()\n",
        "\n",
        "\n",
        "def plot_all_curves(curves):\n",
        "    for curve in curves:\n",
        "        points = curve['curve']\n",
        "        frames = []\n",
        "        fer_labels = []\n",
        "        for p in points:\n",
        "            frames.append(p['frame'])\n",
        "            fer_labels.append(p['fer_label'])\n",
        "        plot_one_curve(frames, fer_labels, curve['fr_label'])\n",
        "\n",
        "def get_avg_curve():\n",
        "    \"\"\"Vẽ đường cong cảm xúc trung bình\"\"\"\n",
        "    # Tính trung bình trạng thái cảm xúc của tất cả thành viên tại các frame\n",
        "    # Ý tưởng: đặt số cho mỗi chỉ số cảm xúc, tính giá trị trung bình, lấy phần nguyên\n",
        "    # Vẽ đường cong cảm xúc tương ứng\n",
        "    avg_curve = {'fr_label': 'trung bình', 'curve': []}\n",
        "    emotions = {'ANGRY': 0, 'FEAR': 1, 'SAD': 2, 'NEUTRAL': 3, 'HAPPY': 4, 'SURPRISED': 5} \n",
        "    emotion_list = list(emotions.keys())\n",
        "    \n",
        "    for index, row in df.iterrows():\n",
        "        avg_score = 0\n",
        "        num = 0\n",
        "        for emotion in emotions:\n",
        "            val = str(row[emotion])\n",
        "            if val == 'nan':\n",
        "                continue\n",
        "            n = len(val)\n",
        "            num += n\n",
        "            avg_score += n*emotions[emotion]\n",
        "        avg_score /= num\n",
        "        avg_curve['curve'].append({'frame': row['FRAME'], 'fer_label': emotion_list[int(np.round(avg_score))]})\n",
        "    return avg_curve"
      ]
    },
    {
      "cell_type": "code",
      "execution_count": 17,
      "metadata": {},
      "outputs": [
        {
          "data": {
            "image/png": "[encoded data removed]",
            "text/plain": [
              "<Figure size 432x288 with 1 Axes>"
            ]
          },
          "metadata": {
            "needs_background": "light"
          },
          "output_type": "display_data"
        },
        {
          "data": {
            "image/png": "[encoded data removed]",
            "text/plain": [
              "<Figure size 432x288 with 1 Axes>"
            ]
          },
          "metadata": {
            "needs_background": "light"
          },
          "output_type": "display_data"
        },
        {
          "data": {
            "image/png": "[encoded data removed]",
            "text/plain": [
              "<Figure size 432x288 with 1 Axes>"
            ]
          },
          "metadata": {
            "needs_background": "light"
          },
          "output_type": "display_data"
        },
        {
          "data": {
            "image/png": "[encoded data removed]",
            "text/plain": [
              "<Figure size 432x288 with 1 Axes>"
            ]
          },
          "metadata": {
            "needs_background": "light"
          },
          "output_type": "display_data"
        },
        {
          "data": {
            "image/png": "[encoded data removed]",
            "text/plain": [
              "<Figure size 432x288 with 1 Axes>"
            ]
          },
          "metadata": {
            "needs_background": "light"
          },
          "output_type": "display_data"
        }
      ],
      "source": [
        "curves = get_all_curves()\n",
        "curves.insert(0, get_avg_curve())\n",
        "plot_all_curves(curves)"
      ]
    }
  ],
  "metadata": {
    "colab": {
      "provenance": []
    },
    "kernelspec": {
      "display_name": "Python 3",
      "name": "python3"
    },
    "language_info": {
      "codemirror_mode": {
        "name": "ipython",
        "version": 3
      },
      "file_extension": ".py",
      "mimetype": "text/x-python",
      "name": "python",
      "nbconvert_exporter": "python",
      "pygments_lexer": "ipython3",
      "version": "3.9.0"
    }
  },
  "nbformat": 4,
  "nbformat_minor": 0
}
