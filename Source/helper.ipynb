{
 "cells": [
  {
   "cell_type": "code",
   "execution_count": 67,
   "metadata": {},
   "outputs": [
    {
     "name": "stdout",
     "output_type": "stream",
     "text": [
      "\n",
      "JAMES: 139 files\n",
      "JENNIE: 162 files\n",
      "JISOO: 177 files\n",
      "LISA: 184 files\n",
      "ROSE: 196 files\n",
      "\n",
      "ANGRY: 48 files\n",
      "FEAR: 14 files\n",
      "HAPPY: 75 files\n",
      "NEUTROL: 40 files\n",
      "SAD: 66 files\n",
      "SURPRISED: 30 files\n"
     ]
    }
   ],
   "source": [
    "import os\n",
    "def count_no_files(dir):\n",
    "    print()\n",
    "    for sub in os.listdir(dir):\n",
    "        print(sub + ':', end=' ')\n",
    "        count = 0\n",
    "        sub_dir = dir + sub\n",
    "        for file in os.listdir(sub_dir):\n",
    "            count += 1\n",
    "        print(str(count)+' files')\n",
    "\n",
    "count_no_files('./Data/train/fr/')\n",
    "count_no_files('./Data/train/fer/')"
   ]
  },
  {
   "cell_type": "code",
   "execution_count": 5,
   "metadata": {},
   "outputs": [],
   "source": [
    "# train detection\n",
    "import cv2\n",
    "import shutil as st\n",
    "face_cascade = cv2.CascadeClassifier(cv2.data.haarcascades + 'haarcascade_frontalface_default.xml')\n"
   ]
  },
  {
   "cell_type": "code",
   "execution_count": 10,
   "metadata": {},
   "outputs": [],
   "source": [
    "def write_result_img(output_img, output_path): \n",
    "    # Đếm số lượng file hiện có trong thư mục\n",
    "    count = 0\n",
    "    for _, _, files in os.walk(output_path):\n",
    "        count += len(files)\n",
    "        \n",
    "    # Tên file tiếp theo là số lượng file hiện tại + 1 \n",
    "    count += 1\n",
    "    if count == 7:\n",
    "        print(output_path)\n",
    "    output_path += \"/\" + str(count)+\".jpg\"\n",
    "    check = cv2.imwrite(output_path, output_img)\n",
    "    if not check:\n",
    "        print(\"Fail to save file!\", output_path)"
   ]
  },
  {
   "cell_type": "code",
   "execution_count": 78,
   "metadata": {},
   "outputs": [
    {
     "name": "stdout",
     "output_type": "stream",
     "text": [
      "./Data/train/fer/SURPRISED/output/\n"
     ]
    }
   ],
   "source": [
    "def train_detection(dir):\n",
    "    output = dir + \"output/\"\n",
    "    if not os.path.exists(output):\n",
    "        os.makedirs(output)\n",
    "    remov_list = output + \"remov_list/\"\n",
    "    if not os.path.exists(remov_list):\n",
    "        os.makedirs(remov_list)\n",
    "        \n",
    "    for file in os.listdir(dir):\n",
    "        file_path = dir + file\n",
    "        if os.path.isdir(file_path):\n",
    "            continue\n",
    "        img = cv2.imread(file_path)\n",
    "        bboxes = face_cascade.detectMultiScale(image=img)\n",
    "        if len(bboxes)==0:\n",
    "            st.copy(file_path, remov_list)\n",
    "            os.remove(file_path)\n",
    "            continue\n",
    "        for (x,y,w,h) in bboxes:\n",
    "            cv2.rectangle(img,(x,y), (x+w,y+h),(0, 255, 0), 2)\n",
    "        try:\n",
    "            write_result_img(img, output)\n",
    "        except:\n",
    "            print(file_path)\n",
    "        \n",
    "train_detection('./Data/train/fer/SURPRISED/')    "
   ]
  }
 ],
 "metadata": {
  "kernelspec": {
   "display_name": "Python 3",
   "language": "python",
   "name": "python3"
  },
  "language_info": {
   "codemirror_mode": {
    "name": "ipython",
    "version": 3
   },
   "file_extension": ".py",
   "mimetype": "text/x-python",
   "name": "python",
   "nbconvert_exporter": "python",
   "pygments_lexer": "ipython3",
   "version": "3.9.0"
  },
  "orig_nbformat": 4
 },
 "nbformat": 4,
 "nbformat_minor": 2
}
